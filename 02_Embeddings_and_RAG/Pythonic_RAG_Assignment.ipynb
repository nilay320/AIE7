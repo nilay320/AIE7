{
  "cells": [
    {
      "cell_type": "markdown",
      "metadata": {
        "id": "lElF3o5PR6ys"
      },
      "source": [
        "# Your First RAG Application\n",
        "\n",
        "In this notebook, we'll walk you through each of the components that are involved in a simple RAG application.\n",
        "\n",
        "We won't be leveraging any fancy tools, just the OpenAI Python SDK, Numpy, and some classic Python.\n",
        "\n",
        "> NOTE: This was done with Python 3.11.4.\n",
        "\n",
        "> NOTE: There might be [compatibility issues](https://github.com/wandb/wandb/issues/7683) if you're on NVIDIA driver >552.44 As an interim solution - you can rollback your drivers to the 552.44."
      ]
    },
    {
      "cell_type": "markdown",
      "metadata": {
        "id": "5CtcL8P8R6yt"
      },
      "source": [
        "## Table of Contents:\n",
        "\n",
        "- Task 1: Imports and Utilities\n",
        "- Task 2: Documents\n",
        "- Task 3: Embeddings and Vectors\n",
        "- Task 4: Prompts\n",
        "- Task 5: Retrieval Augmented Generation\n",
        "  - 🚧 Activity #1: Augment RAG"
      ]
    },
    {
      "cell_type": "markdown",
      "metadata": {
        "id": "1Dz6GYilR6yt"
      },
      "source": [
        "Let's look at a rather complicated looking visual representation of a basic RAG application.\n",
        "\n",
        "<img src=\"https://i.imgur.com/vD8b016.png\" />"
      ]
    },
    {
      "cell_type": "markdown",
      "metadata": {
        "id": "PjmC0KFtR6yt"
      },
      "source": [
        "## Task 1: Imports and Utility\n",
        "\n",
        "We're just doing some imports and enabling `async` to work within the Jupyter environment here, nothing too crazy!"
      ]
    },
    {
      "cell_type": "code",
      "execution_count": 1,
      "metadata": {
        "id": "Z1dyrG4hR6yt"
      },
      "outputs": [],
      "source": [
        "from aimakerspace.text_utils import TextFileLoader, CharacterTextSplitter\n",
        "from aimakerspace.vectordatabase import VectorDatabase\n",
        "import asyncio"
      ]
    },
    {
      "cell_type": "code",
      "execution_count": 2,
      "metadata": {
        "id": "9OrFZRnER6yt"
      },
      "outputs": [],
      "source": [
        "import nest_asyncio\n",
        "nest_asyncio.apply()"
      ]
    },
    {
      "cell_type": "markdown",
      "metadata": {
        "id": "M0jGnpQsR6yu"
      },
      "source": [
        "## Task 2: Documents\n",
        "\n",
        "We'll be concerning ourselves with this part of the flow in the following section:\n",
        "\n",
        "<img src=\"https://i.imgur.com/jTm9gjk.png\" />"
      ]
    },
    {
      "cell_type": "markdown",
      "metadata": {
        "id": "-SFPWvRUR6yu"
      },
      "source": [
        "### Loading Source Documents\n",
        "\n",
        "So, first things first, we need some documents to work with.\n",
        "\n",
        "While we could work directly with the `.txt` files (or whatever file-types you wanted to extend this to) we can instead do some batch processing of those documents at the beginning in order to store them in a more machine compatible format.\n",
        "\n",
        "In this case, we're going to parse our text file into a single document in memory.\n",
        "\n",
        "Let's look at the relevant bits of the `TextFileLoader` class:\n",
        "\n",
        "```python\n",
        "def load_file(self):\n",
        "        with open(self.path, \"r\", encoding=self.encoding) as f:\n",
        "            self.documents.append(f.read())\n",
        "```\n",
        "\n",
        "We're simply loading the document using the built in `open` method, and storing that output in our `self.documents` list.\n",
        "\n",
        "> NOTE: We're using blogs from PMarca (Marc Andreessen) as our sample data. This data is largely irrelevant as we want to focus on the mechanisms of RAG, which includes out data's shape and quality - but not specifically what the contents of the data are. \n"
      ]
    },
    {
      "cell_type": "code",
      "execution_count": 3,
      "metadata": {
        "colab": {
          "base_uri": "https://localhost:8080/"
        },
        "id": "Ia2sUEuGR6yu",
        "outputId": "84937ecc-c35f-4c4a-a4ab-9da72625954c"
      },
      "outputs": [
        {
          "data": {
            "text/plain": [
              "1"
            ]
          },
          "execution_count": 3,
          "metadata": {},
          "output_type": "execute_result"
        }
      ],
      "source": [
        "text_loader = TextFileLoader(\"data/PMarcaBlogs.txt\")\n",
        "documents = text_loader.load_documents()\n",
        "len(documents)"
      ]
    },
    {
      "cell_type": "code",
      "execution_count": 4,
      "metadata": {
        "colab": {
          "base_uri": "https://localhost:8080/"
        },
        "id": "bV-tj5WFR6yu",
        "outputId": "674eb315-1ff3-4597-bcf5-38ece0a812ac"
      },
      "outputs": [
        {
          "name": "stdout",
          "output_type": "stream",
          "text": [
            "\n",
            "The Pmarca Blog Archives\n",
            "(select posts from 2007-2009)\n",
            "Marc Andreessen\n",
            "copyright: Andreessen Horow\n"
          ]
        }
      ],
      "source": [
        "print(documents[0][:100])"
      ]
    },
    {
      "cell_type": "markdown",
      "metadata": {
        "id": "nHlTvCzYR6yu"
      },
      "source": [
        "### Splitting Text Into Chunks\n",
        "\n",
        "As we can see, there is one massive document.\n",
        "\n",
        "We'll want to chunk the document into smaller parts so it's easier to pass the most relevant snippets to the LLM.\n",
        "\n",
        "There is no fixed way to split/chunk documents - and you'll need to rely on some intuition as well as knowing your data *very* well in order to build the most robust system.\n",
        "\n",
        "For this toy example, we'll just split blindly on length.\n",
        "\n",
        ">There's an opportunity to clear up some terminology here, for this course we will be stick to the following:\n",
        ">\n",
        ">- \"source documents\" : The `.txt`, `.pdf`, `.html`, ..., files that make up the files and information we start with in its raw format\n",
        ">- \"document(s)\" : single (or more) text object(s)\n",
        ">- \"corpus\" : the combination of all of our documents"
      ]
    },
    {
      "cell_type": "markdown",
      "metadata": {
        "id": "2G6Voc0jR6yv"
      },
      "source": [
        "As you can imagine (though it's not specifically true in this toy example) the idea of splitting documents is to break them into managable sized chunks that retain the most relevant local context."
      ]
    },
    {
      "cell_type": "code",
      "execution_count": 5,
      "metadata": {
        "colab": {
          "base_uri": "https://localhost:8080/"
        },
        "id": "UMC4tsEmR6yv",
        "outputId": "08689c0b-57cd-4040-942a-8193e997f5cb"
      },
      "outputs": [
        {
          "data": {
            "text/plain": [
              "373"
            ]
          },
          "execution_count": 5,
          "metadata": {},
          "output_type": "execute_result"
        }
      ],
      "source": [
        "text_splitter = CharacterTextSplitter()\n",
        "split_documents = text_splitter.split_texts(documents)\n",
        "len(split_documents)"
      ]
    },
    {
      "cell_type": "markdown",
      "metadata": {
        "id": "W2wKT0WLR6yv"
      },
      "source": [
        "Let's take a look at some of the documents we've managed to split."
      ]
    },
    {
      "cell_type": "code",
      "execution_count": 6,
      "metadata": {
        "colab": {
          "base_uri": "https://localhost:8080/"
        },
        "id": "vcYMwWJoR6yv",
        "outputId": "20d69876-feca-4826-b4be-32915276987a"
      },
      "outputs": [
        {
          "data": {
            "text/plain": [
              "['\\ufeff\\nThe Pmarca Blog Archives\\n(select posts from 2007-2009)\\nMarc Andreessen\\ncopyright: Andreessen Horowitz\\ncover design: Jessica Hagy\\nproduced using: Pressbooks\\nContents\\nTHE PMARCA GUIDE TO STARTUPS\\nPart 1: Why not to do a startup 2\\nPart 2: When the VCs say \"no\" 10\\nPart 3: \"But I don\\'t know any VCs!\" 18\\nPart 4: The only thing that matters 25\\nPart 5: The Moby Dick theory of big companies 33\\nPart 6: How much funding is too little? Too much? 41\\nPart 7: Why a startup\\'s initial business plan doesn\\'t\\nmatter that much\\n49\\nTHE PMARCA GUIDE TO HIRING\\nPart 8: Hiring, managing, promoting, and Dring\\nexecutives\\n54\\nPart 9: How to hire a professional CEO 68\\nHow to hire the best people you\\'ve ever worked\\nwith\\n69\\nTHE PMARCA GUIDE TO BIG COMPANIES\\nPart 1: Turnaround! 82\\nPart 2: Retaining great people 86\\nTHE PMARCA GUIDE TO CAREER, PRODUCTIVITY,\\nAND SOME OTHER THINGS\\nIntroduction 97\\nPart 1: Opportunity 99\\nPart 2: Skills and education 107\\nPart 3: Where to go and why 120\\nThe Pmarca Guide to Personal Productivi']"
            ]
          },
          "execution_count": 6,
          "metadata": {},
          "output_type": "execute_result"
        }
      ],
      "source": [
        "split_documents[0:1]"
      ]
    },
    {
      "cell_type": "markdown",
      "metadata": {
        "id": "HOU-RFP_R6yv"
      },
      "source": [
        "## Task 3: Embeddings and Vectors\n",
        "\n",
        "Next, we have to convert our corpus into a \"machine readable\" format as we explored in the Embedding Primer notebook.\n",
        "\n",
        "Today, we're going to talk about the actual process of creating, and then storing, these embeddings, and how we can leverage that to intelligently add context to our queries."
      ]
    },
    {
      "cell_type": "markdown",
      "metadata": {},
      "source": [
        "### OpenAI API Key\n",
        "\n",
        "In order to access OpenAI's APIs, we'll need to provide our OpenAI API Key!\n",
        "\n",
        "You can work through the folder \"OpenAI API Key Setup\" for more information on this process if you don't already have an API Key!"
      ]
    },
    {
      "cell_type": "code",
      "execution_count": 7,
      "metadata": {},
      "outputs": [],
      "source": [
        "import os\n",
        "import openai\n",
        "from getpass import getpass\n",
        "\n",
        "openai.api_key = getpass(\"OpenAI API Key: \")\n",
        "os.environ[\"OPENAI_API_KEY\"] = openai.api_key"
      ]
    },
    {
      "cell_type": "markdown",
      "metadata": {},
      "source": [
        "### Vector Database\n",
        "\n",
        "Let's set up our vector database to hold all our documents and their embeddings!"
      ]
    },
    {
      "cell_type": "markdown",
      "metadata": {
        "id": "kDQrfAR1R6yv"
      },
      "source": [
        "While this is all baked into 1 call - we can look at some of the code that powers this process to get a better understanding:\n",
        "\n",
        "Let's look at our `VectorDatabase().__init__()`:\n",
        "\n",
        "```python\n",
        "def __init__(self, embedding_model: EmbeddingModel = None):\n",
        "        self.vectors = defaultdict(np.array)\n",
        "        self.embedding_model = embedding_model or EmbeddingModel()\n",
        "```\n",
        "\n",
        "As you can see - our vectors are merely stored as a dictionary of `np.array` objects.\n",
        "\n",
        "Secondly, our `VectorDatabase()` has a default `EmbeddingModel()` which is a wrapper for OpenAI's `text-embedding-3-small` model.\n",
        "\n",
        "> **Quick Info About `text-embedding-3-small`**:\n",
        "> - It has a context window of **8191** tokens\n",
        "> - It returns vectors with dimension **1536**"
      ]
    },
    {
      "cell_type": "markdown",
      "metadata": {
        "id": "L273pRdeR6yv"
      },
      "source": [
        "#### ❓Question #1:\n",
        "\n",
        "The default embedding dimension of `text-embedding-3-small` is 1536, as noted above. \n",
        "\n",
        "1. Is there any way to modify this dimension?\n",
        "2. What technique does OpenAI use to achieve this?\n",
        "\n",
        "> NOTE: Check out this [API documentation](https://platform.openai.com/docs/api-reference/embeddings/create) for the answer to question #1, and [this documentation](https://platform.openai.com/docs/guides/embeddings/use-cases) for an answer to question #2!"
      ]
    },
    {
      "cell_type": "markdown",
      "metadata": {},
      "source": [
        "### Answers\n",
        "1. Yes, you can modify the dimension using the `dimensions` parameter in the API.\n",
        "2. OpenAI uses *Matryoshka Representation Learning (MRL)* to enable dimension reduction."
      ]
    },
    {
      "cell_type": "markdown",
      "metadata": {
        "id": "w5FZY7K3R6yv"
      },
      "source": [
        "We can call the `async_get_embeddings` method of our `EmbeddingModel()` on a list of `str` and receive a list of `float` back!\n",
        "\n",
        "```python\n",
        "async def async_get_embeddings(self, list_of_text: List[str]) -> List[List[float]]:\n",
        "        return await aget_embeddings(\n",
        "            list_of_text=list_of_text, engine=self.embeddings_model_name\n",
        "        )\n",
        "```"
      ]
    },
    {
      "cell_type": "markdown",
      "metadata": {
        "id": "cSct6X0aR6yv"
      },
      "source": [
        "We cast those to `np.array` when we build our `VectorDatabase()`:\n",
        "\n",
        "```python\n",
        "async def abuild_from_list(self, list_of_text: List[str]) -> \"VectorDatabase\":\n",
        "        embeddings = await self.embedding_model.async_get_embeddings(list_of_text)\n",
        "        for text, embedding in zip(list_of_text, embeddings):\n",
        "            self.insert(text, np.array(embedding))\n",
        "        return self\n",
        "```\n",
        "\n",
        "And that's all we need to do!"
      ]
    },
    {
      "cell_type": "code",
      "execution_count": 8,
      "metadata": {
        "id": "O4KoLbVDR6yv"
      },
      "outputs": [],
      "source": [
        "vector_db = VectorDatabase()\n",
        "vector_db = asyncio.run(vector_db.abuild_from_list(split_documents))"
      ]
    },
    {
      "cell_type": "markdown",
      "metadata": {
        "id": "SSZwaGvpR6yv"
      },
      "source": [
        "#### ❓Question #2:\n",
        "\n",
        "What are the benefits of using an `async` approach to collecting our embeddings?\n",
        "\n",
        "> NOTE: Determining the core difference between `async` and `sync` will be useful! If you get stuck - ask ChatGPT!"
      ]
    },
    {
      "cell_type": "markdown",
      "metadata": {},
      "source": [
        "###Answer\n",
        "The benefits of using async for embeddings include non-blocking operations allowing other code to run -> e.g. when an I/O operation is blocked, another task can be run within the async io framework instead of blocking that other tasks. Hence, when you're dealing with multiple documents, it allows for more efficient resource usage. In this case, we're making API calls and we don't need to block on an individual call as a result of using async! The allows for greater concurrency and faster run times."
      ]
    },
    {
      "cell_type": "markdown",
      "metadata": {
        "id": "nRBdIt-xR6yw"
      },
      "source": [
        "So, to review what we've done so far in natural language:\n",
        "\n",
        "1. We load source documents\n",
        "2. We split those source documents into smaller chunks (documents)\n",
        "3. We send each of those documents to the `text-embedding-3-small` OpenAI API endpoint\n",
        "4. We store each of the text representations with the vector representations as keys/values in a dictionary"
      ]
    },
    {
      "cell_type": "markdown",
      "metadata": {
        "id": "4-vWANZyR6yw"
      },
      "source": [
        "### Semantic Similarity\n",
        "\n",
        "The next step is to be able to query our `VectorDatabase()` with a `str` and have it return to us vectors and text that is most relevant from our corpus.\n",
        "\n",
        "We're going to use the following process to achieve this in our toy example:\n",
        "\n",
        "1. We need to embed our query with the same `EmbeddingModel()` as we used to construct our `VectorDatabase()`\n",
        "2. We loop through every vector in our `VectorDatabase()` and use a distance measure to compare how related they are\n",
        "3. We return a list of the top `k` closest vectors, with their text representations\n",
        "\n",
        "There's some very heavy optimization that can be done at each of these steps - but let's just focus on the basic pattern in this notebook.\n",
        "\n",
        "> We are using [cosine similarity](https://www.engati.com/glossary/cosine-similarity) as a distance metric in this example - but there are many many distance metrics you could use - like [these](https://flavien-vidal.medium.com/similarity-distances-for-natural-language-processing-16f63cd5ba55)\n",
        "\n",
        "> We are using a rather inefficient way of calculating relative distance between the query vector and all other vectors - there are more advanced approaches that are much more efficient, like [ANN](https://towardsdatascience.com/comprehensive-guide-to-approximate-nearest-neighbors-algorithms-8b94f057d6b6)"
      ]
    },
    {
      "cell_type": "code",
      "execution_count": 9,
      "metadata": {
        "colab": {
          "base_uri": "https://localhost:8080/"
        },
        "id": "76d96uavR6yw",
        "outputId": "bbfccc31-20a2-41c7-c14d-46554a43ed2d"
      },
      "outputs": [
        {
          "data": {
            "text/plain": [
              "[('ordingly.\\nSeventh, when hiring the executive to run your former specialty, be\\ncareful you don’t hire someone weak on purpose.\\nThis sounds silly, but you wouldn’t believe how oaen it happens.\\nThe CEO who used to be a product manager who has a weak\\nproduct management executive. The CEO who used to be in\\nsales who has a weak sales executive. The CEO who used to be\\nin marketing who has a weak marketing executive.\\nI call this the “Michael Eisner Memorial Weak Executive Problem” — aaer the CEO of Disney who had previously been a brilliant TV network executive. When he bought ABC at Disney, it\\npromptly fell to fourth place. His response? “If I had an extra\\ntwo days a week, I could turn around ABC myself.” Well, guess\\nwhat, he didn’t have an extra two days a week.\\nA CEO — or a startup founder — oaen has a hard time letting\\ngo of the function that brought him to the party. The result: you\\nhire someone weak into the executive role for that function so\\nthat you can continue to be “the man” — cons',\n",
              "  np.float64(0.6538563767462544)),\n",
              " ('m. They have areas where they are truly deXcient in judgment or skill set. That’s just life. Almost nobody is brilliant\\nat everything. When hiring and when Hring executives, you\\nmust therefore focus on strength rather than lack of weakness. Everybody has severe weaknesses even if you can’t see\\nthem yet. When managing, it’s oaen useful to micromanage and\\nto provide remedial training around these weaknesses. Doing so\\nmay make the diWerence between an executive succeeding or\\nfailing.\\nFor example, you might have a brilliant engineering executive\\nwho generates excellent team loyalty, has terriXc product judgment and makes the trains run on time. This same executive\\nmay be very poor at relating to the other functions in the company. She may generate far more than her share of cross-functional conYicts, cut herself oW from critical information, and\\nsigniXcantly impede your ability to sell and market eWectively.\\nYour alternatives are:\\n(a) Macro-manage and give her an annual or quarterly object',\n",
              "  np.float64(0.5036012174947992)),\n",
              " ('ed?\\nIn reality — as opposed to Marc’s warped view of reality — it will\\nbe extremely helpful for Marc [if he were actually the CEO,\\nwhich he is not] to meet with the new head of engineering daily\\nwhen she comes on board and review all of her thinking and\\ndecisions. This level of micromanagement will accelerate her\\ntraining and improve her long-term eWectiveness. It will make\\nher seem smarter to the rest of the organization which will build\\ncredibility and conXdence while she comes up to speed. Micromanaging new executives is generally a good idea for a limited\\nperiod of time.\\nHowever, that is not the only time that it makes sense to micro66 The Pmarca Blog Archives\\nmanage executives. It turns out that just about every executive\\nin the world has a few things that are seriously wrong with\\nthem. They have areas where they are truly deXcient in judgment or skill set. That’s just life. Almost nobody is brilliant\\nat everything. When hiring and when Hring executives, you\\nmust therefore focus o',\n",
              "  np.float64(0.4814102594977529))]"
            ]
          },
          "execution_count": 9,
          "metadata": {},
          "output_type": "execute_result"
        }
      ],
      "source": [
        "vector_db.search_by_text(\"What is the Michael Eisner Memorial Weak Executive Problem?\", k=3)"
      ]
    },
    {
      "cell_type": "markdown",
      "metadata": {
        "id": "TehsfIiKR6yw"
      },
      "source": [
        "## Task 4: Prompts\n",
        "\n",
        "In the following section, we'll be looking at the role of prompts - and how they help us to guide our application in the right direction.\n",
        "\n",
        "In this notebook, we're going to rely on the idea of \"zero-shot in-context learning\".\n",
        "\n",
        "This is a lot of words to say: \"We will ask it to perform our desired task in the prompt, and provide no examples.\""
      ]
    },
    {
      "cell_type": "markdown",
      "metadata": {
        "id": "yXpA0UveR6yw"
      },
      "source": [
        "### XYZRolePrompt\n",
        "\n",
        "Before we do that, let's stop and think a bit about how OpenAI's chat models work.\n",
        "\n",
        "We know they have roles - as is indicated in the following API [documentation](https://platform.openai.com/docs/api-reference/chat/create#chat/create-messages)\n",
        "\n",
        "There are three roles, and they function as follows (taken directly from [OpenAI](https://platform.openai.com/docs/guides/gpt/chat-completions-api)):\n",
        "\n",
        "- `{\"role\" : \"system\"}` : The system message helps set the behavior of the assistant. For example, you can modify the personality of the assistant or provide specific instructions about how it should behave throughout the conversation. However note that the system message is optional and the model’s behavior without a system message is likely to be similar to using a generic message such as \"You are a helpful assistant.\"\n",
        "- `{\"role\" : \"user\"}` : The user messages provide requests or comments for the assistant to respond to.\n",
        "- `{\"role\" : \"assistant\"}` : Assistant messages store previous assistant responses, but can also be written by you to give examples of desired behavior.\n",
        "\n",
        "The main idea is this:\n",
        "\n",
        "1. You start with a system message that outlines how the LLM should respond, what kind of behaviours you can expect from it, and more\n",
        "2. Then, you can provide a few examples in the form of \"assistant\"/\"user\" pairs\n",
        "3. Then, you prompt the model with the true \"user\" message.\n",
        "\n",
        "In this example, we'll be forgoing the 2nd step for simplicities sake."
      ]
    },
    {
      "cell_type": "markdown",
      "metadata": {
        "id": "gdZ2KWKSR6yw"
      },
      "source": [
        "#### Utility Functions\n",
        "\n",
        "You'll notice that we're using some utility functions from the `aimakerspace` module - let's take a peek at these and see what they're doing!"
      ]
    },
    {
      "cell_type": "markdown",
      "metadata": {
        "id": "GFbeJDDsR6yw"
      },
      "source": [
        "##### XYZRolePrompt"
      ]
    },
    {
      "cell_type": "markdown",
      "metadata": {
        "id": "5mojJSE3R6yw"
      },
      "source": [
        "Here we have our `system`, `user`, and `assistant` role prompts.\n",
        "\n",
        "Let's take a peek at what they look like:\n",
        "\n",
        "```python\n",
        "class BasePrompt:\n",
        "    def __init__(self, prompt):\n",
        "        \"\"\"\n",
        "        Initializes the BasePrompt object with a prompt template.\n",
        "\n",
        "        :param prompt: A string that can contain placeholders within curly braces\n",
        "        \"\"\"\n",
        "        self.prompt = prompt\n",
        "        self._pattern = re.compile(r\"\\{([^}]+)\\}\")\n",
        "\n",
        "    def format_prompt(self, **kwargs):\n",
        "        \"\"\"\n",
        "        Formats the prompt string using the keyword arguments provided.\n",
        "\n",
        "        :param kwargs: The values to substitute into the prompt string\n",
        "        :return: The formatted prompt string\n",
        "        \"\"\"\n",
        "        matches = self._pattern.findall(self.prompt)\n",
        "        return self.prompt.format(**{match: kwargs.get(match, \"\") for match in matches})\n",
        "\n",
        "    def get_input_variables(self):\n",
        "        \"\"\"\n",
        "        Gets the list of input variable names from the prompt string.\n",
        "\n",
        "        :return: List of input variable names\n",
        "        \"\"\"\n",
        "        return self._pattern.findall(self.prompt)\n",
        "```\n",
        "\n",
        "Then we have our `RolePrompt` which laser focuses us on the role pattern found in most API endpoints for LLMs.\n",
        "\n",
        "```python\n",
        "class RolePrompt(BasePrompt):\n",
        "    def __init__(self, prompt, role: str):\n",
        "        \"\"\"\n",
        "        Initializes the RolePrompt object with a prompt template and a role.\n",
        "\n",
        "        :param prompt: A string that can contain placeholders within curly braces\n",
        "        :param role: The role for the message ('system', 'user', or 'assistant')\n",
        "        \"\"\"\n",
        "        super().__init__(prompt)\n",
        "        self.role = role\n",
        "\n",
        "    def create_message(self, **kwargs):\n",
        "        \"\"\"\n",
        "        Creates a message dictionary with a role and a formatted message.\n",
        "\n",
        "        :param kwargs: The values to substitute into the prompt string\n",
        "        :return: Dictionary containing the role and the formatted message\n",
        "        \"\"\"\n",
        "        return {\"role\": self.role, \"content\": self.format_prompt(**kwargs)}\n",
        "```\n",
        "\n",
        "We'll look at how the `SystemRolePrompt` is constructed to get a better idea of how that extension works:\n",
        "\n",
        "```python\n",
        "class SystemRolePrompt(RolePrompt):\n",
        "    def __init__(self, prompt: str):\n",
        "        super().__init__(prompt, \"system\")\n",
        "```\n",
        "\n",
        "That pattern is repeated for our `UserRolePrompt` and our `AssistantRolePrompt` as well."
      ]
    },
    {
      "cell_type": "markdown",
      "metadata": {
        "id": "D361R6sMR6yw"
      },
      "source": [
        "##### ChatOpenAI"
      ]
    },
    {
      "cell_type": "markdown",
      "metadata": {
        "id": "HJVQ2Pm8R6yw"
      },
      "source": [
        "Next we have our model, which is converted to a format analagous to libraries like LangChain and LlamaIndex.\n",
        "\n",
        "Let's take a peek at how that is constructed:\n",
        "\n",
        "```python\n",
        "class ChatOpenAI:\n",
        "    def __init__(self, model_name: str = \"gpt-4o-mini\"):\n",
        "        self.model_name = model_name\n",
        "        self.openai_api_key = os.getenv(\"OPENAI_API_KEY\")\n",
        "        if self.openai_api_key is None:\n",
        "            raise ValueError(\"OPENAI_API_KEY is not set\")\n",
        "\n",
        "    def run(self, messages, text_only: bool = True):\n",
        "        if not isinstance(messages, list):\n",
        "            raise ValueError(\"messages must be a list\")\n",
        "\n",
        "        openai.api_key = self.openai_api_key\n",
        "        response = openai.ChatCompletion.create(\n",
        "            model=self.model_name, messages=messages\n",
        "        )\n",
        "\n",
        "        if text_only:\n",
        "            return response.choices[0].message.content\n",
        "\n",
        "        return response\n",
        "```"
      ]
    },
    {
      "cell_type": "markdown",
      "metadata": {
        "id": "qCU7FfhIR6yw"
      },
      "source": [
        "#### ❓ Question #3:\n",
        "\n",
        "When calling the OpenAI API - are there any ways we can achieve more reproducible outputs?\n",
        "\n",
        "### Answer\n",
        "\n",
        "Yes, you can use the seed parameter (set to the same integer across requests) and temperature=0 to achieve more deterministic outputs, though perfect reproducibility is not guaranteed. You should also monitor the system_fingerprint field to detect backend changes that might affect consistency. Keep all other parameters (prompt, max_tokens, top_p) identical across requests for best results.\n",
        "\n",
        "> NOTE: Check out [this section](https://platform.openai.com/docs/guides/text-generation/) of the OpenAI documentation for the answer!"
      ]
    },
    {
      "cell_type": "markdown",
      "metadata": {
        "id": "c5wcjMLCR6yw"
      },
      "source": [
        "### Creating and Prompting OpenAI's `gpt-4o-mini`!\n",
        "\n",
        "Let's tie all these together and use it to prompt `gpt-4o-mini`!"
      ]
    },
    {
      "cell_type": "code",
      "execution_count": 10,
      "metadata": {
        "id": "WIfpIot7R6yw"
      },
      "outputs": [],
      "source": [
        "from aimakerspace.openai_utils.prompts import (\n",
        "    UserRolePrompt,\n",
        "    SystemRolePrompt,\n",
        "    AssistantRolePrompt,\n",
        ")\n",
        "\n",
        "from aimakerspace.openai_utils.chatmodel import ChatOpenAI\n",
        "\n",
        "chat_openai = ChatOpenAI()\n",
        "user_prompt_template = \"{content}\"\n",
        "user_role_prompt = UserRolePrompt(user_prompt_template)\n",
        "system_prompt_template = (\n",
        "    \"You are an expert in {expertise}, you always answer in a kind way.\"\n",
        ")\n",
        "system_role_prompt = SystemRolePrompt(system_prompt_template)\n",
        "\n",
        "messages = [\n",
        "    system_role_prompt.create_message(expertise=\"Python\"),\n",
        "    user_role_prompt.create_message(\n",
        "        content=\"What is the best way to write a loop?\"\n",
        "    ),\n",
        "]\n",
        "\n",
        "response = chat_openai.run(messages)"
      ]
    },
    {
      "cell_type": "code",
      "execution_count": 12,
      "metadata": {
        "colab": {
          "base_uri": "https://localhost:8080/"
        },
        "id": "dHo7lssNR6yw",
        "outputId": "1d3823fa-bb6b-45f6-ddba-b41686388324"
      },
      "outputs": [
        {
          "name": "stdout",
          "output_type": "stream",
          "text": [
            "The best way to write a loop in Python often depends on the context of what you're trying to accomplish. However, here are a few tips to write effective loops:\n",
            "\n",
            "1. **Use the Right Type of Loop**:\n",
            "   - For iterating over a sequence (like a list, tuple, or string), consider using a `for` loop. This is usually cleaner and more Pythonic than a `while` loop.\n",
            "   - Use a `while` loop when you need to repeat an action until a certain condition is met.\n",
            "\n",
            "2. **Keep It Readable**:\n",
            "   - Use meaningful variable names and maintain a clear structure. This improves code readability.\n",
            "\n",
            "3. **Avoid Modifying the List While Iterating**:\n",
            "   - If you need to remove elements from a list within a loop, consider creating a copy of the list or using list comprehensions.\n",
            "\n",
            "4. **Use `enumerate()`**:\n",
            "   - When you need both the index and the value from a list, use `enumerate()` to avoid manual indexing.\n",
            "\n",
            "5. **Consider List Comprehensions**:\n",
            "   - For simple cases, you can often achieve the same result more concisely with a list comprehension.\n",
            "\n",
            "Here's an example of a `for` loop that iterates through a list:\n",
            "\n",
            "```python\n",
            "fruits = ['apple', 'banana', 'cherry']\n",
            "\n",
            "for fruit in fruits:\n",
            "    print(fruit)\n",
            "```\n",
            "\n",
            "And here's an example of a loop using `enumerate()`:\n",
            "\n",
            "```python\n",
            "for index, fruit in enumerate(fruits):\n",
            "    print(f\"{index}: {fruit}\")\n",
            "```\n",
            "\n",
            "If you're doing something with a condition, here's a `while` loop example:\n",
            "\n",
            "```python\n",
            "count = 0\n",
            "while count < 5:\n",
            "    print(count)\n",
            "    count += 1\n",
            "```\n",
            "\n",
            "Using these tips, you can write loops that are efficient and easy to understand. If you have a specific use case in mind, feel free to share, and I can give you more tailored advice!\n"
          ]
        }
      ],
      "source": [
        "print(response)"
      ]
    },
    {
      "cell_type": "markdown",
      "metadata": {
        "id": "r2nxxhB2R6yy"
      },
      "source": [
        "## Task 5: Retrieval Augmented Generation\n",
        "\n",
        "Now we can create a RAG prompt - which will help our system behave in a way that makes sense!\n",
        "\n",
        "There is much you could do here, many tweaks and improvements to be made!"
      ]
    },
    {
      "cell_type": "code",
      "execution_count": 14,
      "metadata": {
        "id": "D1hamzGaR6yy"
      },
      "outputs": [],
      "source": [
        "RAG_SYSTEM_TEMPLATE = \"\"\"You are a knowledgeable assistant that answers questions based strictly on provided context.\n",
        "\n",
        "Instructions:\n",
        "- Only answer questions using information from the provided context\n",
        "- If the context doesn't contain relevant information, respond with \"I don't know\"\n",
        "- Be accurate and cite specific parts of the context when possible\n",
        "- Keep responses {response_style} and {response_length}\n",
        "- Only use the provided context. Do not use external knowledge.\n",
        "- Only provide answers when you are confident the context supports your response.\"\"\"\n",
        "\n",
        "RAG_USER_TEMPLATE = \"\"\"Context Information:\n",
        "{context}\n",
        "\n",
        "Number of relevant sources found: {context_count}\n",
        "{similarity_scores}\n",
        "\n",
        "Question: {user_query}\n",
        "\n",
        "Please provide your answer based solely on the context above.\"\"\"\n",
        "\n",
        "rag_system_prompt = SystemRolePrompt(\n",
        "    RAG_SYSTEM_TEMPLATE,\n",
        "    strict=True,\n",
        "    defaults={\n",
        "        \"response_style\": \"concise\",\n",
        "        \"response_length\": \"brief\"\n",
        "    }\n",
        ")\n",
        "\n",
        "rag_user_prompt = UserRolePrompt(\n",
        "    RAG_USER_TEMPLATE,\n",
        "    strict=True,\n",
        "    defaults={\n",
        "        \"context_count\": \"\",\n",
        "        \"similarity_scores\": \"\"\n",
        "    }\n",
        ")"
      ]
    },
    {
      "cell_type": "markdown",
      "metadata": {},
      "source": [
        "Now we can create our pipeline!"
      ]
    },
    {
      "cell_type": "code",
      "execution_count": 15,
      "metadata": {},
      "outputs": [],
      "source": [
        "class RetrievalAugmentedQAPipeline:\n",
        "    def __init__(self, llm: ChatOpenAI(), vector_db_retriever: VectorDatabase, \n",
        "                 response_style: str = \"detailed\", include_scores: bool = False) -> None:\n",
        "        self.llm = llm\n",
        "        self.vector_db_retriever = vector_db_retriever\n",
        "        self.response_style = response_style\n",
        "        self.include_scores = include_scores\n",
        "\n",
        "    def run_pipeline(self, user_query: str, k: int = 4, **system_kwargs) -> dict:\n",
        "        # Retrieve relevant contexts\n",
        "        context_list = self.vector_db_retriever.search_by_text(user_query, k=k)\n",
        "        \n",
        "        context_prompt = \"\"\n",
        "        similarity_scores = []\n",
        "        \n",
        "        for i, (context, score) in enumerate(context_list, 1):\n",
        "            context_prompt += f\"[Source {i}]: {context}\\n\\n\"\n",
        "            similarity_scores.append(f\"Source {i}: {score:.3f}\")\n",
        "        \n",
        "        # Create system message with parameters\n",
        "        system_params = {\n",
        "            \"response_style\": self.response_style,\n",
        "            \"response_length\": system_kwargs.get(\"response_length\", \"detailed\")\n",
        "        }\n",
        "        \n",
        "        formatted_system_prompt = rag_system_prompt.create_message(**system_params)\n",
        "        \n",
        "        user_params = {\n",
        "            \"user_query\": user_query,\n",
        "            \"context\": context_prompt.strip(),\n",
        "            \"context_count\": len(context_list),\n",
        "            \"similarity_scores\": f\"Relevance scores: {', '.join(similarity_scores)}\" if self.include_scores else \"\"\n",
        "        }\n",
        "        \n",
        "        formatted_user_prompt = rag_user_prompt.create_message(**user_params)\n",
        "\n",
        "        return {\n",
        "            \"response\": self.llm.run([formatted_system_prompt, formatted_user_prompt]), \n",
        "            \"context\": context_list,\n",
        "            \"context_count\": len(context_list),\n",
        "            \"similarity_scores\": similarity_scores if self.include_scores else None,\n",
        "            \"prompts_used\": {\n",
        "                \"system\": formatted_system_prompt,\n",
        "                \"user\": formatted_user_prompt\n",
        "            }\n",
        "        }"
      ]
    },
    {
      "cell_type": "code",
      "execution_count": 16,
      "metadata": {},
      "outputs": [
        {
          "name": "stdout",
          "output_type": "stream",
          "text": [
            "Response: The 'Michael Eisner Memorial Weak Executive Problem' refers to a situation where a CEO, who has a strong background in a particular area (such as product management, sales, or marketing), hires a weak executive for that same function. This often occurs because the CEO finds it difficult to let go of the function that contributed to their success and thus chooses a less competent individual for the role to maintain their own prominence in that area. The example provided in the context describes Michael Eisner, who was previously a successful TV network executive but, after acquiring ABC for Disney, failed to improve its performance and expressed a belief that he could turn it around if he had more time. This illustrates the issue of hiring a weak executive to allow the CEO to continue feeling like a key player in that domain (Source 1).\n",
            "\n",
            "Context Count: 3\n",
            "Similarity Scores: ['Source 1: 0.658', 'Source 2: 0.509', 'Source 3: 0.479']\n"
          ]
        }
      ],
      "source": [
        "rag_pipeline = RetrievalAugmentedQAPipeline(\n",
        "    vector_db_retriever=vector_db,\n",
        "    llm=chat_openai,\n",
        "    response_style=\"detailed\",\n",
        "    include_scores=True\n",
        ")\n",
        "\n",
        "result = rag_pipeline.run_pipeline(\n",
        "    \"What is the 'Michael Eisner Memorial Weak Executive Problem'?\",\n",
        "    k=3,\n",
        "    response_length=\"comprehensive\", \n",
        "    include_warnings=True,\n",
        "    confidence_required=True\n",
        ")\n",
        "\n",
        "print(f\"Response: {result['response']}\")\n",
        "print(f\"\\nContext Count: {result['context_count']}\")\n",
        "print(f\"Similarity Scores: {result['similarity_scores']}\")\n"
      ]
    },
    {
      "cell_type": "markdown",
      "metadata": {
        "id": "zZIJI19uR6yz"
      },
      "source": [
        "#### ❓ Question #4:\n",
        "\n",
        "What prompting strategies could you use to make the LLM have a more thoughtful, detailed response?\n",
        "\n",
        "What is that strategy called?\n",
        "\n",
        "### Answer\n",
        "The primary strategy is called \"Chain-of-Thought (CoT) Prompting,\" where you add phrases like \"Let's think step by step\" to encourage the model to break down problems into intermediate reasoning steps. \"Few-Shot Prompting\" is another effective technique where you provide 2-5 examples of detailed responses, and the model learns to match that pattern and depth. For the most thoughtful responses, you can combine both methods by showing examples that include step-by-step reasoning.\n",
        "\n",
        "> NOTE: You can look through [\"Accessing GPT-3.5-turbo Like a Developer\"](https://colab.research.google.com/drive/1mOzbgf4a2SP5qQj33ZxTz2a01-5eXqk2?usp=sharing) for an answer to this question if you get stuck!"
      ]
    },
    {
      "cell_type": "markdown",
      "metadata": {},
      "source": [
        "### 🏗️ Activity #1:\n",
        "\n",
        "Enhance your RAG application in some way! \n",
        "\n",
        "Suggestions are: \n",
        "\n",
        "- Allow it to work with PDF files\n",
        "- Implement a new distance metric\n",
        "- Add metadata support to the vector database\n",
        "\n",
        "While these are suggestions, you should feel free to make whatever augmentations you desire! \n",
        "\n",
        "> NOTE: These additions might require you to work within the `aimakerspace` library - that's expected!\n",
        "\n",
        "> NOTE: If you're not sure where to start - ask Cursor (CMD/CTRL+L) to guide you through the changes!"
      ]
    },
    {
      "cell_type": "markdown",
      "metadata": {},
      "source": [
        "### Activity #1\n",
        "For Activity #1, I will add metadata support to the vector database."
      ]
    },
    {
      "cell_type": "code",
      "execution_count": 17,
      "metadata": {},
      "outputs": [
        {
          "name": "stdout",
          "output_type": "stream",
          "text": [
            "🚀 Activity #1: Enhanced RAG with Metadata Support\n",
            "============================================================\n",
            "📁 Loading documents with comprehensive metadata...\n",
            "✅ Loaded 373 chunks with rich metadata\n",
            "✅ Generated 373 metadata records\n",
            "\n",
            "📊 Metadata Summary:\n",
            "   total_documents: 1\n",
            "   total_chunks: 373\n",
            "   total_characters: 297904\n",
            "   total_words: 52305\n",
            "   average_chunk_size: 998.1340482573727\n",
            "   source_files: ['PMarcaBlogs.txt']\n",
            "   chunk_size_distribution: {'min': 304, 'max': 1000, 'avg': 998.1340482573727}\n",
            "\n",
            "📋 Sample Chunk Metadata (showing first 10 fields):\n",
            "   chunk_index: 0\n",
            "   chunk_start_pos: 0\n",
            "   chunk_end_pos: 1000\n",
            "   chunk_size: 1000\n",
            "   word_count: 181\n",
            "   line_count: 36\n",
            "   overlap_size: 0\n",
            "   is_first_chunk: True\n",
            "   is_last_chunk: False\n",
            "   chunk_hash: 8d2eed05\n",
            "\n",
            "🔧 Building enhanced vector database with metadata...\n",
            "✅ Enhanced database statistics:\n",
            "   - Total documents: 373\n",
            "   - Metadata fields available: 29\n",
            "   - Key metadata fields: ['word_count', 'source_doc_hash', 'overlap_size', 'is_first_chunk', 'sentiment_label', 'source_text_length', 'chunk_hash', 'source_document_index']...\n",
            "\n",
            "🔍 DEMO: Advanced Filtered Search Capabilities\n",
            "\n",
            "--------------------------------------------------\n",
            "🔍 Regular Search (No Filters)\n",
            "Query: 'What is the Michael Eisner Memorial Weak Executive Problem?'\n",
            "Filters: None\n",
            "--------------------------------------------------\n",
            "📊 Found 3 results:\n",
            "   Result 1: Chunk #115, 189 words, Score: 0.654\n",
            "   Preview: ordingly.\n",
            "Seventh, when hiring the executive to run your former specialty, be\n",
            "careful you don’t hire...\n",
            "\n",
            "   Result 2: Chunk #133, 159 words, Score: 0.504\n",
            "   Preview: m. They have areas where they are truly deXcient in judgment or skill set. That’s just life. Almost ...\n",
            "\n",
            "   Result 3: Chunk #132, 176 words, Score: 0.481\n",
            "   Preview: ed?\n",
            "In reality — as opposed to Marc’s warped view of reality — it will\n",
            "be extremely helpful for Marc...\n",
            "\n",
            "\n",
            "--------------------------------------------------\n",
            "📍 Early Document Search (First 50 chunks)\n",
            "Query: 'What is the Michael Eisner Memorial Weak Executive Problem?'\n",
            "Filters: {'chunk_index': {'min': 0, 'max': 50}, 'word_count': {'min': 50}}\n",
            "--------------------------------------------------\n",
            "📊 Found 3 results:\n",
            "   Result 1: Chunk #12, 186 words, Score: 0.337\n",
            "   Preview: ’re going to be too lazy, too slow, easily\n",
            "rattled, political, bipolar, or psychotic.\n",
            "And then you h...\n",
            "\n",
            "   Result 2: Chunk #26, 177 words, Score: 0.335\n",
            "   Preview: on’t think the business person is strong\n",
            "enough to be the founding CEO. Or vice versa, maybe they\n",
            "th...\n",
            "\n",
            "   Result 3: Chunk #11, 195 words, Score: 0.321\n",
            "   Preview:  a new company in 1994, I was\n",
            "one of about a dozen people at various Silicon Valley companies\n",
            "he was...\n",
            "\n",
            "\n",
            "--------------------------------------------------\n",
            "📝 Substantial Funding Advice (150+ words)\n",
            "Query: 'startup funding advice'\n",
            "Filters: {'word_count': {'min': 150}}\n",
            "--------------------------------------------------\n",
            "📊 Found 3 results:\n",
            "   Result 1: Chunk #79, 174 words, Score: 0.630\n",
            "   Preview: ow can you know, and what can you do about it?\n",
            "The Xrst question to ask is, what is the correct, or ...\n",
            "\n",
            "   Result 2: Chunk #46, 181 words, Score: 0.620\n",
            "   Preview: y new startup” is a lot more eWective\n",
            "than your normal pitch.\n",
            "If you engage in a set of these techni...\n",
            "\n",
            "   Result 3: Chunk #47, 190 words, Score: 0.589\n",
            "   Preview: — funding from individuals who like to invest\n",
            "small amounts of money in early-stage startups, oaen b...\n",
            "\n",
            "\n",
            "--------------------------------------------------\n",
            "🎯 Combined Filters (Substantial + Early chunks)\n",
            "Query: 'executive hiring'\n",
            "Filters: {'word_count': {'min': 100}, 'chunk_index': {'max': 100}}\n",
            "--------------------------------------------------\n",
            "📊 Found 3 results:\n",
            "   Result 1: Chunk #89, 175 words, Score: 0.396\n",
            "   Preview: oo much\n",
            "money:\n",
            "• Hiring too many people — slows everything down and makes\n",
            "it much harder for you to ...\n",
            "\n",
            "   Result 2: Chunk #12, 186 words, Score: 0.391\n",
            "   Preview: ’re going to be too lazy, too slow, easily\n",
            "rattled, political, bipolar, or psychotic.\n",
            "And then you h...\n",
            "\n",
            "   Result 3: Chunk #10, 197 words, Score: 0.357\n",
            "   Preview:  you do get a “yes”, half the time you’ll get a call two\n",
            "days later and it’ll turn out the answer ha...\n",
            "\n",
            "\n",
            "🤖 DEMO: Enhanced RAG Pipeline with Metadata\n",
            "\n",
            "🧪 Testing Enhanced RAG Pipeline:\n",
            "📝 Enhanced RAG Response:\n",
            "The Michael Eisner Memorial Weak Executive Problem refers to the phenomenon where a CEO, who has previously excelled in a particular function (such as product management, sales, or marketing), hires a weak executive in that same area intentionally. This occurs because the CEO may struggle to let go of the function that contributed to their success and may prefer to maintain control by appointing someone who is weak in that role. The context illustrates this problem with an example of Michael Eisner, the former CEO of Disney, who, despite his background as a successful TV network executive, failed to turn around ABC, which fell to fourth place after its acquisition. Eisner's response indicated his reluctance to delegate effectively and acknowledge that he didn't have the time to manage both his responsibilities and those of the new hire, illustrating the issues that can arise from this hiring practice.\n",
            "\n",
            "📊 Pipeline Metadata:\n",
            "   Sources used: 3\n",
            "   Metadata filtering applied: True\n",
            "   Source information: ['Source 1 Info: Chunk: 115, Words: 189', 'Source 2 Info: Chunk: 133, Words: 159', 'Source 3 Info: Chunk: 132, Words: 176']\n",
            "\n",
            "⚖️  COMPARISON: Original vs Enhanced Pipeline\n",
            "📊 Comparison Summary:\n",
            "   Original pipeline sources: 3\n",
            "   Enhanced pipeline sources: 3\n",
            "   Enhanced pipeline added: Metadata filtering, source attribution, chunk selection\n",
            "\n",
            "🎉 ACTIVITY #1 COMPLETE!\n",
            "✨ Successfully implemented METADATA SUPPORT with:\n",
            "   ✅ Document and chunk metadata tracking\n",
            "   ✅ Advanced filtering capabilities\n",
            "   ✅ Enhanced search with metadata\n",
            "   ✅ Source attribution in responses\n",
            "   ✅ Backward compatibility maintained\n",
            "   ✅ Production-ready metadata system\n",
            "\n",
            "🚀 Your RAG system is now enhanced with professional-grade metadata capabilities!\n"
          ]
        }
      ],
      "source": [
        "# Activity #1: Metadata Support Implementation - COMPLETE DEMO\n",
        "print(\"🚀 Activity #1: Enhanced RAG with Metadata Support\")\n",
        "print(\"=\" * 60)\n",
        "\n",
        "# Step 1: Load documents with enhanced metadata\n",
        "from aimakerspace.text_utils import MetadataEnhancedLoader\n",
        "\n",
        "print(\"📁 Loading documents with comprehensive metadata...\")\n",
        "enhanced_loader = MetadataEnhancedLoader(\"data/PMarcaBlogs.txt\")\n",
        "chunks_with_metadata, chunk_metadata = enhanced_loader.load_and_split()\n",
        "\n",
        "print(f\"✅ Loaded {len(chunks_with_metadata)} chunks with rich metadata\")\n",
        "print(f\"✅ Generated {len(chunk_metadata)} metadata records\")\n",
        "\n",
        "# Show metadata capabilities\n",
        "print(f\"\\n📊 Metadata Summary:\")\n",
        "summary = enhanced_loader.get_summary()\n",
        "for key, value in summary.items():\n",
        "    print(f\"   {key}: {value}\")\n",
        "\n",
        "print(f\"\\n📋 Sample Chunk Metadata (showing first 10 fields):\")\n",
        "if chunk_metadata:\n",
        "    sample = chunk_metadata[0]\n",
        "    for key, value in list(sample.items())[:10]:\n",
        "        print(f\"   {key}: {value}\")\n",
        "\n",
        "# Step 2: Build enhanced vector database\n",
        "print(f\"\\n🔧 Building enhanced vector database with metadata...\")\n",
        "enhanced_vector_db = VectorDatabase()\n",
        "enhanced_vector_db = await enhanced_vector_db.abuild_from_list(chunks_with_metadata, chunk_metadata)\n",
        "\n",
        "stats = enhanced_vector_db.get_stats()\n",
        "print(f\"✅ Enhanced database statistics:\")\n",
        "print(f\"   - Total documents: {stats['total_documents']}\")\n",
        "print(f\"   - Metadata fields available: {len(stats['metadata_keys'])}\")\n",
        "print(f\"   - Key metadata fields: {stats['metadata_keys'][:8]}...\")\n",
        "\n",
        "# Step 3: Demonstrate filtered search capabilities\n",
        "print(f\"\\n🔍 DEMO: Advanced Filtered Search Capabilities\")\n",
        "\n",
        "queries_and_filters = [\n",
        "    {\n",
        "        \"query\": \"What is the Michael Eisner Memorial Weak Executive Problem?\",\n",
        "        \"filters\": None,\n",
        "        \"name\": \"🔍 Regular Search (No Filters)\"\n",
        "    },\n",
        "    {\n",
        "        \"query\": \"What is the Michael Eisner Memorial Weak Executive Problem?\", \n",
        "        \"filters\": {\n",
        "            \"chunk_index\": {\"min\": 0, \"max\": 50},\n",
        "            \"word_count\": {\"min\": 50}  # Include reasonable word count\n",
        "        },\n",
        "        \"name\": \"📍 Early Document Search (First 50 chunks)\"\n",
        "    },\n",
        "    {\n",
        "        \"query\": \"startup funding advice\",\n",
        "        \"filters\": {\n",
        "            \"word_count\": {\"min\": 150}\n",
        "        },\n",
        "        \"name\": \"📝 Substantial Funding Advice (150+ words)\"\n",
        "    },\n",
        "    {\n",
        "        \"query\": \"executive hiring\",\n",
        "        \"filters\": {\"word_count\": {\"min\": 100}, \"chunk_index\": {\"max\": 100}},\n",
        "        \"name\": \"🎯 Combined Filters (Substantial + Early chunks)\"\n",
        "    }\n",
        "]\n",
        "\n",
        "for i, test_case in enumerate(queries_and_filters, 1):\n",
        "    print(f\"\\n{'-' * 50}\")\n",
        "    print(f\"{test_case['name']}\")\n",
        "    print(f\"Query: '{test_case['query']}'\")\n",
        "    print(f\"Filters: {test_case['filters']}\")\n",
        "    print(f\"{'-' * 50}\")\n",
        "    \n",
        "    results = enhanced_vector_db.search_by_text(\n",
        "        test_case[\"query\"],\n",
        "        k=3,\n",
        "        filters=test_case[\"filters\"],\n",
        "        include_metadata=True\n",
        "    )\n",
        "    \n",
        "    print(f\"📊 Found {len(results)} results:\")\n",
        "    for j, (text, score, metadata) in enumerate(results, 1):\n",
        "        chunk_idx = metadata.get('chunk_index', 'N/A')\n",
        "        word_count = metadata.get('word_count', 'N/A') \n",
        "        source_file = metadata.get('source_source_file', 'N/A')\n",
        "        print(f\"   Result {j}: Chunk #{chunk_idx}, {word_count} words, Score: {score:.3f}\")\n",
        "        print(f\"   Preview: {text[:100]}...\")\n",
        "        print()\n",
        "\n",
        "# Step 4: Enhanced RAG Pipeline Integration\n",
        "print(f\"\\n🤖 DEMO: Enhanced RAG Pipeline with Metadata\")\n",
        "\n",
        "class MetadataEnhancedRAGPipeline:\n",
        "    def __init__(self, llm, vector_db, include_source_info=True):\n",
        "        self.llm = llm\n",
        "        self.vector_db = vector_db\n",
        "        self.include_source_info = include_source_info\n",
        "        \n",
        "    def run_pipeline(self, user_query, k=4, filters=None):\n",
        "        # Search with optional metadata filtering\n",
        "        results = self.vector_db.search_by_text(\n",
        "            user_query, k=k, filters=filters, include_metadata=True\n",
        "        )\n",
        "        \n",
        "        # Build enhanced context with metadata\n",
        "        context_parts = []\n",
        "        metadata_summary = []\n",
        "        \n",
        "        for i, (text, score, metadata) in enumerate(results, 1):\n",
        "            context_parts.append(f\"[Source {i}]: {text}\")\n",
        "            \n",
        "            if self.include_source_info:\n",
        "                source_info = []\n",
        "                if \"chunk_index\" in metadata:\n",
        "                    source_info.append(f\"Chunk: {metadata['chunk_index']}\")\n",
        "                if \"word_count\" in metadata:\n",
        "                    source_info.append(f\"Words: {metadata['word_count']}\")\n",
        "                if \"source_source_file\" in metadata:\n",
        "                    source_info.append(f\"File: {metadata['source_source_file']}\")\n",
        "                \n",
        "                metadata_summary.append(f\"Source {i} Info: {', '.join(source_info)}\")\n",
        "        \n",
        "        context_text = \"\\n\\n\".join(context_parts)\n",
        "        metadata_text = \"\\n\".join(metadata_summary)\n",
        "        \n",
        "        # Create enhanced prompts\n",
        "        system_message = rag_system_prompt.create_message(\n",
        "            response_style=\"detailed\",\n",
        "            response_length=\"comprehensive\"\n",
        "        )\n",
        "        \n",
        "        user_message = rag_user_prompt.create_message(\n",
        "            user_query=user_query,\n",
        "            context=f\"{context_text}\\n\\nSource Metadata:\\n{metadata_text}\",\n",
        "            context_count=len(results),\n",
        "            similarity_scores=\"\"\n",
        "        )\n",
        "        \n",
        "        response = self.llm.run([system_message, user_message])\n",
        "        \n",
        "        return {\n",
        "            \"response\": response,\n",
        "            \"sources_used\": len(results),\n",
        "            \"metadata_applied\": bool(filters),\n",
        "            \"source_info\": metadata_summary\n",
        "        }\n",
        "\n",
        "# Test enhanced RAG pipeline\n",
        "enhanced_rag = MetadataEnhancedRAGPipeline(chat_openai, enhanced_vector_db)\n",
        "\n",
        "print(f\"\\n🧪 Testing Enhanced RAG Pipeline:\")\n",
        "result = enhanced_rag.run_pipeline(\n",
        "    \"What is the Michael Eisner Memorial Weak Executive Problem?\",\n",
        "    k=3,\n",
        "    filters={\"word_count\": {\"min\": 100}}  # Only substantial chunks\n",
        ")\n",
        "\n",
        "print(f\"📝 Enhanced RAG Response:\")\n",
        "print(f\"{result['response']}\")\n",
        "print(f\"\\n📊 Pipeline Metadata:\")\n",
        "print(f\"   Sources used: {result['sources_used']}\")\n",
        "print(f\"   Metadata filtering applied: {result['metadata_applied']}\")\n",
        "print(f\"   Source information: {result['source_info']}\")\n",
        "\n",
        "# Step 5: Comparison with original pipeline\n",
        "print(f\"\\n⚖️  COMPARISON: Original vs Enhanced Pipeline\")\n",
        "\n",
        "# Original pipeline result (for comparison)\n",
        "original_result = rag_pipeline.run_pipeline(\n",
        "    \"What is the Michael Eisner Memorial Weak Executive Problem?\",\n",
        "    k=3\n",
        ")\n",
        "\n",
        "print(f\"📊 Comparison Summary:\")\n",
        "print(f\"   Original pipeline sources: {original_result['context_count']}\")  \n",
        "print(f\"   Enhanced pipeline sources: {result['sources_used']}\")\n",
        "print(f\"   Enhanced pipeline added: Metadata filtering, source attribution, chunk selection\")\n",
        "\n",
        "print(f\"\\n🎉 ACTIVITY #1 COMPLETE!\")\n",
        "print(f\"✨ Successfully implemented METADATA SUPPORT with:\")\n",
        "print(f\"   ✅ Document and chunk metadata tracking\")\n",
        "print(f\"   ✅ Advanced filtering capabilities\")  \n",
        "print(f\"   ✅ Enhanced search with metadata\")\n",
        "print(f\"   ✅ Source attribution in responses\")\n",
        "print(f\"   ✅ Backward compatibility maintained\")\n",
        "print(f\"   ✅ Production-ready metadata system\")\n",
        "\n",
        "print(f\"\\n🚀 Your RAG system is now enhanced with professional-grade metadata capabilities!\")"
      ]
    },
    {
      "cell_type": "code",
      "execution_count": 18,
      "metadata": {},
      "outputs": [
        {
          "name": "stdout",
          "output_type": "stream",
          "text": [
            "🎯 TESTING: Enhanced Metadata with Sentiment Analysis\n",
            "============================================================\n",
            "📁 Reloading documents with sentiment analysis...\n",
            "✅ Loaded 373 chunks with sentiment analysis\n",
            "📊 Total metadata fields per chunk: 29\n",
            "\n",
            "📋 Sentiment Analysis Fields:\n",
            "   ✨ sentiment_compound: 0.9265\n",
            "   ✨ sentiment_positive: 0.101\n",
            "   ✨ sentiment_negative: 0.044\n",
            "   ✨ sentiment_neutral: 0.855\n",
            "   ✨ sentiment_label: positive\n",
            "\n",
            "📊 Sentiment Distribution Analysis:\n",
            "   Positive: 310 chunks (83.1%)\n",
            "   Negative: 60 chunks (16.1%)\n",
            "   Neutral: 3 chunks (0.8%)\n",
            "\n",
            "📈 Sentiment Score Analysis:\n",
            "   Most Positive: 0.997\n",
            "   Most Negative: -0.985\n",
            "   Average: 0.601\n",
            "\n",
            "🔧 Building vector database with sentiment metadata...\n",
            "\n",
            "🔍 DEMO: Sentiment-Based Search Filtering\n",
            "\n",
            "--------------------------------------------------\n",
            "😊 Positive Startup Advice Only\n",
            "Query: 'startup advice and tips'\n",
            "Filters: {'sentiment_label': 'positive'}\n",
            "--------------------------------------------------\n",
            "📊 Found 3 results:\n",
            "   Result 1: Chunk #241, Sentiment: positive (0.971)\n",
            "   Score: 0.498, Words: 177\n",
            "   Preview: ably deserves its own post.\n",
            "However, in a nutshell, look for one where you understand the product, see how it might Ft i...\n",
            "\n",
            "   Result 2: Chunk #239, Sentiment: positive (0.985)\n",
            "   Score: 0.490, Words: 182\n",
            "   Preview: r at big companies — and lots of people are\n",
            "very happy doing that, but I doubt that’s your intention or you\n",
            "wouldn’t be ...\n",
            "\n",
            "   Result 3: Chunk #240, Sentiment: positive (0.871)\n",
            "   Score: 0.486, Words: 179\n",
            "   Preview: ere is a caveat to all this, which is as follows:\n",
            "Don’t just be a “summertime soldier” — don’t go someplace\n",
            "because it’s...\n",
            "\n",
            "\n",
            "--------------------------------------------------\n",
            "😐 Negative/Neutral Business Content\n",
            "Query: 'business challenges and problems'\n",
            "Filters: {'sentiment_compound': {'min': -1.0, 'max': 0.0}}\n",
            "--------------------------------------------------\n",
            "📊 Found 3 results:\n",
            "   Result 1: Chunk #22, Sentiment: negative (-0.920)\n",
            "   Score: 0.446, Words: 174\n",
            "   Preview: ing the company? Is the business person missing from the\n",
            "team altogether? Is it a business person or business people wit...\n",
            "\n",
            "   Result 2: Chunk #68, Sentiment: negative (-0.859)\n",
            "   Score: 0.446, Words: 155\n",
            "   Preview:  process —\n",
            "and all big companies have one; they have to — is mind-bendingly complex to try to understand, even from the ...\n",
            "\n",
            "   Result 3: Chunk #94, Sentiment: negative (-0.460)\n",
            "   Score: 0.410, Words: 184\n",
            "   Preview: ld that is\n",
            "a very uncertain place. You are simply probably not going to know\n",
            "whether your initial idea will work as a pr...\n",
            "\n",
            "\n",
            "--------------------------------------------------\n",
            "🚀 Highly Positive & Substantial Entrepreneurship Content\n",
            "Query: 'entrepreneurship success'\n",
            "Filters: {'sentiment_compound': {'min': 0.1}, 'word_count': {'min': 150}}\n",
            "--------------------------------------------------\n",
            "📊 Found 3 results:\n",
            "   Result 1: Chunk #6, Sentiment: positive (0.863)\n",
            "   Score: 0.557, Words: 174\n",
            "   Preview: to suit.\n",
            "And Xnally, money — startups done right can of course be highly\n",
            "lucrative. This is not just an issue of persona...\n",
            "\n",
            "   Result 2: Chunk #48, Sentiment: positive (0.990)\n",
            "   Score: 0.539, Words: 176\n",
            "   Preview: hat matters for a new\n",
            "startup.\n",
            "But Xrst, some theory:\n",
            "If you look at a broad cross-section of startups — say, 30 or 40\n",
            "o...\n",
            "\n",
            "   Result 3: Chunk #61, Sentiment: positive (0.986)\n",
            "   Score: 0.533, Words: 161\n",
            "   Preview:  suggesting that you do ignore everything else — just that\n",
            "judging from what I’ve seen in successful startups, you can.\n",
            "...\n",
            "\n",
            "\n",
            "🤖 DEMO: Sentiment-Aware RAG Pipeline\n",
            "\n",
            "🧪 Testing Sentiment-Filtered RAG:\n",
            "📝 Positive-Sentiment RAG Response:\n",
            "When considering startup funding, it is important to recognize that a startup's life can be categorized into two phases: before achieving Product/Market Fit and after. \n",
            "\n",
            "1. **Funding Before Product/Market Fit**: Ideally, a startup should raise enough capital to reach Product/Market Fit. This means not just covering initial expenses but also securing a substantial buffer to withstand unexpected challenges, also referred to as \"insurance.\"\n",
            "\n",
            "2. **Funding After Product/Market Fit**: Once Product/Market Fit is achieved, the startup should raise sufficient funds to fully exploit the existing opportunities and to achieve profitability, while still ensuring there is extra capital for unforeseen circumstances.\n",
            "\n",
            "3. **Amount to Raise**: As a general guideline, it is recommended to raise as much funding as possible without relinquishing control of the company or being unreasonable. Historical examples suggest that startups that raised significant amounts of money when there was an opportunity generally fared better over time compared to those who did not.\n",
            "\n",
            "4. **Funding Sources**: If traditional venture capital funding isn’t available, consider other alternatives in descending order of preference:\n",
            "   - Angel funding: Investments from individuals interested in early-stage startups.\n",
            "   - Bootstrapping: This can be done through consulting contracts or securing early customers.\n",
            "   - Maintaining a day job while developing your startup in your spare time.\n",
            "   - Credit card debt: This is considered the least preferable option.\n",
            "\n",
            "Engaging with potential investors through various channels, including blogging and direct communication, can lead to useful interactions and possibly funding opportunities.\n",
            "\n",
            "📊 Sentiment Pipeline Stats:\n",
            "   Sources used: 3\n",
            "   Filtering: Positive sentiment + 100+ words\n",
            "\n",
            "🎉 SENTIMENT ANALYSIS ENHANCEMENT COMPLETE!\n",
            "✨ Successfully added sentiment analysis with:\n",
            "   ✅ VADER sentiment scoring (compound, positive, negative, neutral)\n",
            "   ✅ Sentiment label classification (positive/negative/neutral)\n",
            "   ✅ Sentiment-based filtering in search\n",
            "   ✅ Sentiment-aware RAG pipeline\n",
            "   ✅ 373 chunks analyzed for sentiment\n",
            "   📊 Distribution: 310 positive, 60 negative, 3 neutral\n"
          ]
        }
      ],
      "source": [
        "# 🔬 SENTIMENT ANALYSIS TESTING - Activity #1 Extension\n",
        "print(\"🎯 TESTING: Enhanced Metadata with Sentiment Analysis\")\n",
        "print(\"=\" * 60)\n",
        "\n",
        "# Step 1: Reload with sentiment analysis\n",
        "print(\"📁 Reloading documents with sentiment analysis...\")\n",
        "sentiment_loader = MetadataEnhancedLoader(\"data/PMarcaBlogs.txt\", analyze_sentiment=True)\n",
        "sentiment_chunks, sentiment_metadata = sentiment_loader.load_and_split()\n",
        "\n",
        "print(f\"✅ Loaded {len(sentiment_chunks)} chunks with sentiment analysis\")\n",
        "print(f\"📊 Total metadata fields per chunk: {len(sentiment_metadata[0])}\")\n",
        "\n",
        "# Step 2: Show sentiment-specific metadata fields\n",
        "print(\"\\n📋 Sentiment Analysis Fields:\")\n",
        "sample_metadata = sentiment_metadata[0]\n",
        "sentiment_fields = [k for k in sample_metadata.keys() if 'sentiment' in k.lower()]\n",
        "for field in sentiment_fields:\n",
        "    print(f\"   ✨ {field}: {sample_metadata[field]}\")\n",
        "\n",
        "# Step 3: Sentiment statistics\n",
        "print(\"\\n📊 Sentiment Distribution Analysis:\")\n",
        "sentiment_labels = [m['sentiment_label'] for m in sentiment_metadata]\n",
        "sentiment_counts = {}\n",
        "for label in sentiment_labels:\n",
        "    sentiment_counts[label] = sentiment_counts.get(label, 0) + 1\n",
        "\n",
        "for label, count in sentiment_counts.items():\n",
        "    percentage = (count / len(sentiment_metadata)) * 100\n",
        "    print(f\"   {label.title()}: {count} chunks ({percentage:.1f}%)\")\n",
        "\n",
        "# Step 4: Sentiment score statistics\n",
        "compound_scores = [m['sentiment_compound'] for m in sentiment_metadata]\n",
        "print(f\"\\n📈 Sentiment Score Analysis:\")\n",
        "print(f\"   Most Positive: {max(compound_scores):.3f}\")\n",
        "print(f\"   Most Negative: {min(compound_scores):.3f}\")\n",
        "print(f\"   Average: {sum(compound_scores) / len(compound_scores):.3f}\")\n",
        "\n",
        "# Step 5: Build vector database with sentiment\n",
        "print(f\"\\n🔧 Building vector database with sentiment metadata...\")\n",
        "sentiment_vector_db = VectorDatabase()\n",
        "sentiment_vector_db = await sentiment_vector_db.abuild_from_list(sentiment_chunks, sentiment_metadata)\n",
        "\n",
        "# Step 6: Test sentiment-based filtering\n",
        "print(f\"\\n🔍 DEMO: Sentiment-Based Search Filtering\")\n",
        "\n",
        "sentiment_tests = [\n",
        "    {\n",
        "        \"query\": \"startup advice and tips\",\n",
        "        \"filters\": {\"sentiment_label\": \"positive\"},\n",
        "        \"name\": \"😊 Positive Startup Advice Only\"\n",
        "    },\n",
        "    {\n",
        "        \"query\": \"business challenges and problems\", \n",
        "        \"filters\": {\"sentiment_compound\": {\"min\": -1.0, \"max\": 0.0}},\n",
        "        \"name\": \"😐 Negative/Neutral Business Content\"\n",
        "    },\n",
        "    {\n",
        "        \"query\": \"entrepreneurship success\",\n",
        "        \"filters\": {\n",
        "            \"sentiment_compound\": {\"min\": 0.1},  # Positive sentiment\n",
        "            \"word_count\": {\"min\": 150}           # Substantial content\n",
        "        },\n",
        "        \"name\": \"🚀 Highly Positive & Substantial Entrepreneurship Content\"\n",
        "    }\n",
        "]\n",
        "\n",
        "for test in sentiment_tests:\n",
        "    print(f\"\\n{'-' * 50}\")\n",
        "    print(f\"{test['name']}\")\n",
        "    print(f\"Query: '{test['query']}'\")\n",
        "    print(f\"Filters: {test['filters']}\")\n",
        "    print(f\"{'-' * 50}\")\n",
        "    \n",
        "    results = sentiment_vector_db.search_by_text(\n",
        "        test[\"query\"],\n",
        "        k=3,\n",
        "        filters=test[\"filters\"],\n",
        "        include_metadata=True\n",
        "    )\n",
        "    \n",
        "    print(f\"📊 Found {len(results)} results:\")\n",
        "    for j, (text, score, metadata) in enumerate(results, 1):\n",
        "        sentiment_label = metadata.get('sentiment_label', 'unknown')\n",
        "        sentiment_score = metadata.get('sentiment_compound', 0)\n",
        "        word_count = metadata.get('word_count', 0)\n",
        "        chunk_idx = metadata.get('chunk_index', 'N/A')\n",
        "        \n",
        "        print(f\"   Result {j}: Chunk #{chunk_idx}, Sentiment: {sentiment_label} ({sentiment_score:.3f})\")\n",
        "        print(f\"   Score: {score:.3f}, Words: {word_count}\")\n",
        "        print(f\"   Preview: {text[:120]}...\")\n",
        "        print()\n",
        "\n",
        "# Step 7: Enhanced RAG with sentiment awareness\n",
        "print(f\"\\n🤖 DEMO: Sentiment-Aware RAG Pipeline\")\n",
        "\n",
        "enhanced_rag_sentiment = MetadataEnhancedRAGPipeline(chat_openai, sentiment_vector_db)\n",
        "\n",
        "print(f\"\\n🧪 Testing Sentiment-Filtered RAG:\")\n",
        "positive_result = enhanced_rag_sentiment.run_pipeline(\n",
        "    \"Give me advice about startup funding\",\n",
        "    k=3,\n",
        "    filters={\"sentiment_label\": \"positive\", \"word_count\": {\"min\": 100}}\n",
        ")\n",
        "\n",
        "print(f\"📝 Positive-Sentiment RAG Response:\")\n",
        "print(f\"{positive_result['response']}\")\n",
        "print(f\"\\n📊 Sentiment Pipeline Stats:\")\n",
        "print(f\"   Sources used: {positive_result['sources_used']}\")\n",
        "print(f\"   Filtering: Positive sentiment + 100+ words\")\n",
        "\n",
        "print(f\"\\n🎉 SENTIMENT ANALYSIS ENHANCEMENT COMPLETE!\")\n",
        "print(f\"✨ Successfully added sentiment analysis with:\")\n",
        "print(f\"   ✅ VADER sentiment scoring (compound, positive, negative, neutral)\")\n",
        "print(f\"   ✅ Sentiment label classification (positive/negative/neutral)\")\n",
        "print(f\"   ✅ Sentiment-based filtering in search\")\n",
        "print(f\"   ✅ Sentiment-aware RAG pipeline\")\n",
        "print(f\"   ✅ {len(sentiment_chunks)} chunks analyzed for sentiment\")\n",
        "\n",
        "sentiment_stats = {\n",
        "    'positive': sentiment_counts.get('positive', 0),\n",
        "    'negative': sentiment_counts.get('negative', 0), \n",
        "    'neutral': sentiment_counts.get('neutral', 0)\n",
        "}\n",
        "print(f\"   📊 Distribution: {sentiment_stats['positive']} positive, {sentiment_stats['negative']} negative, {sentiment_stats['neutral']} neutral\")\n"
      ]
    }
  ],
  "metadata": {
    "colab": {
      "provenance": []
    },
    "kernelspec": {
      "display_name": ".venv",
      "language": "python",
      "name": "python3"
    },
    "language_info": {
      "codemirror_mode": {
        "name": "ipython",
        "version": 3
      },
      "file_extension": ".py",
      "mimetype": "text/x-python",
      "name": "python",
      "nbconvert_exporter": "python",
      "pygments_lexer": "ipython3",
      "version": "3.12.8"
    },
    "orig_nbformat": 4,
    "widgets": {
      "application/vnd.jupyter.widget-state+json": {
        "1ce393d9afcf427d9d352259c5d32678": {
          "model_module": "@jupyter-widgets/controls",
          "model_module_version": "1.5.0",
          "model_name": "FloatProgressModel",
          "state": {
            "_dom_classes": [],
            "_model_module": "@jupyter-widgets/controls",
            "_model_module_version": "1.5.0",
            "_model_name": "FloatProgressModel",
            "_view_count": null,
            "_view_module": "@jupyter-widgets/controls",
            "_view_module_version": "1.5.0",
            "_view_name": "ProgressView",
            "bar_style": "",
            "description": "",
            "description_tooltip": null,
            "layout": "IPY_MODEL_4e6efd99f7d346e485b002fb0fa85cc7",
            "max": 1,
            "min": 0,
            "orientation": "horizontal",
            "style": "IPY_MODEL_3dfb67c39958461da6071e4c19c3fa41",
            "value": 1
          }
        },
        "3a4ba348cb004f8ab7b2b1395539c81b": {
          "model_module": "@jupyter-widgets/controls",
          "model_module_version": "1.5.0",
          "model_name": "LabelModel",
          "state": {
            "_dom_classes": [],
            "_model_module": "@jupyter-widgets/controls",
            "_model_module_version": "1.5.0",
            "_model_name": "LabelModel",
            "_view_count": null,
            "_view_module": "@jupyter-widgets/controls",
            "_view_module_version": "1.5.0",
            "_view_name": "LabelView",
            "description": "",
            "description_tooltip": null,
            "layout": "IPY_MODEL_d2ea5009dd16442cb5d8a0ac468e50a8",
            "placeholder": "​",
            "style": "IPY_MODEL_5f00135fe1044051a50ee5e841cbb8e3",
            "value": "0.018 MB of 0.018 MB uploaded\r"
          }
        },
        "3dfb67c39958461da6071e4c19c3fa41": {
          "model_module": "@jupyter-widgets/controls",
          "model_module_version": "1.5.0",
          "model_name": "ProgressStyleModel",
          "state": {
            "_model_module": "@jupyter-widgets/controls",
            "_model_module_version": "1.5.0",
            "_model_name": "ProgressStyleModel",
            "_view_count": null,
            "_view_module": "@jupyter-widgets/base",
            "_view_module_version": "1.2.0",
            "_view_name": "StyleView",
            "bar_color": null,
            "description_width": ""
          }
        },
        "4e6efd99f7d346e485b002fb0fa85cc7": {
          "model_module": "@jupyter-widgets/base",
          "model_module_version": "1.2.0",
          "model_name": "LayoutModel",
          "state": {
            "_model_module": "@jupyter-widgets/base",
            "_model_module_version": "1.2.0",
            "_model_name": "LayoutModel",
            "_view_count": null,
            "_view_module": "@jupyter-widgets/base",
            "_view_module_version": "1.2.0",
            "_view_name": "LayoutView",
            "align_content": null,
            "align_items": null,
            "align_self": null,
            "border": null,
            "bottom": null,
            "display": null,
            "flex": null,
            "flex_flow": null,
            "grid_area": null,
            "grid_auto_columns": null,
            "grid_auto_flow": null,
            "grid_auto_rows": null,
            "grid_column": null,
            "grid_gap": null,
            "grid_row": null,
            "grid_template_areas": null,
            "grid_template_columns": null,
            "grid_template_rows": null,
            "height": null,
            "justify_content": null,
            "justify_items": null,
            "left": null,
            "margin": null,
            "max_height": null,
            "max_width": null,
            "min_height": null,
            "min_width": null,
            "object_fit": null,
            "object_position": null,
            "order": null,
            "overflow": null,
            "overflow_x": null,
            "overflow_y": null,
            "padding": null,
            "right": null,
            "top": null,
            "visibility": null,
            "width": null
          }
        },
        "56a8e24025594e5e9ff3b8581c344691": {
          "model_module": "@jupyter-widgets/base",
          "model_module_version": "1.2.0",
          "model_name": "LayoutModel",
          "state": {
            "_model_module": "@jupyter-widgets/base",
            "_model_module_version": "1.2.0",
            "_model_name": "LayoutModel",
            "_view_count": null,
            "_view_module": "@jupyter-widgets/base",
            "_view_module_version": "1.2.0",
            "_view_name": "LayoutView",
            "align_content": null,
            "align_items": null,
            "align_self": null,
            "border": null,
            "bottom": null,
            "display": null,
            "flex": null,
            "flex_flow": null,
            "grid_area": null,
            "grid_auto_columns": null,
            "grid_auto_flow": null,
            "grid_auto_rows": null,
            "grid_column": null,
            "grid_gap": null,
            "grid_row": null,
            "grid_template_areas": null,
            "grid_template_columns": null,
            "grid_template_rows": null,
            "height": null,
            "justify_content": null,
            "justify_items": null,
            "left": null,
            "margin": null,
            "max_height": null,
            "max_width": null,
            "min_height": null,
            "min_width": null,
            "object_fit": null,
            "object_position": null,
            "order": null,
            "overflow": null,
            "overflow_x": null,
            "overflow_y": null,
            "padding": null,
            "right": null,
            "top": null,
            "visibility": null,
            "width": null
          }
        },
        "5f00135fe1044051a50ee5e841cbb8e3": {
          "model_module": "@jupyter-widgets/controls",
          "model_module_version": "1.5.0",
          "model_name": "DescriptionStyleModel",
          "state": {
            "_model_module": "@jupyter-widgets/controls",
            "_model_module_version": "1.5.0",
            "_model_name": "DescriptionStyleModel",
            "_view_count": null,
            "_view_module": "@jupyter-widgets/base",
            "_view_module_version": "1.2.0",
            "_view_name": "StyleView",
            "description_width": ""
          }
        },
        "bb904e05ece143c79ecc4f20de482f45": {
          "model_module": "@jupyter-widgets/controls",
          "model_module_version": "1.5.0",
          "model_name": "VBoxModel",
          "state": {
            "_dom_classes": [],
            "_model_module": "@jupyter-widgets/controls",
            "_model_module_version": "1.5.0",
            "_model_name": "VBoxModel",
            "_view_count": null,
            "_view_module": "@jupyter-widgets/controls",
            "_view_module_version": "1.5.0",
            "_view_name": "VBoxView",
            "box_style": "",
            "children": [
              "IPY_MODEL_3a4ba348cb004f8ab7b2b1395539c81b",
              "IPY_MODEL_1ce393d9afcf427d9d352259c5d32678"
            ],
            "layout": "IPY_MODEL_56a8e24025594e5e9ff3b8581c344691"
          }
        },
        "d2ea5009dd16442cb5d8a0ac468e50a8": {
          "model_module": "@jupyter-widgets/base",
          "model_module_version": "1.2.0",
          "model_name": "LayoutModel",
          "state": {
            "_model_module": "@jupyter-widgets/base",
            "_model_module_version": "1.2.0",
            "_model_name": "LayoutModel",
            "_view_count": null,
            "_view_module": "@jupyter-widgets/base",
            "_view_module_version": "1.2.0",
            "_view_name": "LayoutView",
            "align_content": null,
            "align_items": null,
            "align_self": null,
            "border": null,
            "bottom": null,
            "display": null,
            "flex": null,
            "flex_flow": null,
            "grid_area": null,
            "grid_auto_columns": null,
            "grid_auto_flow": null,
            "grid_auto_rows": null,
            "grid_column": null,
            "grid_gap": null,
            "grid_row": null,
            "grid_template_areas": null,
            "grid_template_columns": null,
            "grid_template_rows": null,
            "height": null,
            "justify_content": null,
            "justify_items": null,
            "left": null,
            "margin": null,
            "max_height": null,
            "max_width": null,
            "min_height": null,
            "min_width": null,
            "object_fit": null,
            "object_position": null,
            "order": null,
            "overflow": null,
            "overflow_x": null,
            "overflow_y": null,
            "padding": null,
            "right": null,
            "top": null,
            "visibility": null,
            "width": null
          }
        }
      }
    }
  },
  "nbformat": 4,
  "nbformat_minor": 0
}
